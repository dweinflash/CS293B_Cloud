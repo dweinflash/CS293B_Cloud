{
  "nbformat": 4,
  "nbformat_minor": 0,
  "metadata": {
    "colab": {
      "name": "experiment.ipynb",
      "provenance": [],
      "collapsed_sections": [],
      "mount_file_id": "12ihp6p_9jRCmsAgMRtqUbUUCxO3a3BVh",
      "authorship_tag": "ABX9TyMCN85+TSVfheXuyAoLVlLb",
      "include_colab_link": true
    },
    "kernelspec": {
      "name": "python3",
      "display_name": "Python 3"
    },
    "accelerator": "GPU"
  },
  "cells": [
    {
      "cell_type": "markdown",
      "metadata": {
        "id": "view-in-github",
        "colab_type": "text"
      },
      "source": [
        "<a href=\"https://colab.research.google.com/github/dweinflash/CS293B_Cloud/blob/master/experiment.ipynb\" target=\"_parent\"><img src=\"https://colab.research.google.com/assets/colab-badge.svg\" alt=\"Open In Colab\"/></a>"
      ]
    },
    {
      "cell_type": "code",
      "metadata": {
        "id": "RUnbfRWMazdV",
        "colab_type": "code",
        "colab": {}
      },
      "source": [
        "pip install -q git+https://github.com/tensorflow/examples.git#egg=tensorflow-examples[model_maker]"
      ],
      "execution_count": null,
      "outputs": []
    },
    {
      "cell_type": "code",
      "metadata": {
        "id": "JjqCW7MSbKmM",
        "colab_type": "code",
        "colab": {}
      },
      "source": [
        "import os\n",
        "import numpy as np\n",
        "\n",
        "import tensorflow as tf\n",
        "assert tf.__version__.startswith('2')\n",
        "\n",
        "from tensorflow_examples.lite.model_maker.core.data_util.image_dataloader import ImageClassifierDataLoader\n",
        "from tensorflow_examples.lite.model_maker.core.task import image_classifier\n",
        "from tensorflow_examples.lite.model_maker.core.task.model_spec import efficientnet_lite0_spec\n",
        "from tensorflow_examples.lite.model_maker.core.task.model_spec import efficientnet_lite1_spec\n",
        "from tensorflow_examples.lite.model_maker.core.task.model_spec import efficientnet_lite2_spec\n",
        "from tensorflow_examples.lite.model_maker.core.task.model_spec import efficientnet_lite3_spec\n",
        "from tensorflow_examples.lite.model_maker.core.task.model_spec import efficientnet_lite4_spec\n",
        "from tensorflow_examples.lite.model_maker.core.task.model_spec import mobilenet_v2_spec\n",
        "from tensorflow_examples.lite.model_maker.core.task.model_spec import resnet_50_spec\n",
        "from tensorflow_examples.lite.model_maker.core.task.model_spec import ImageModelSpec\n",
        "\n",
        "import matplotlib.pyplot as plt"
      ],
      "execution_count": null,
      "outputs": []
    },
    {
      "cell_type": "markdown",
      "metadata": {
        "id": "G3HSmMGLG3NC",
        "colab_type": "text"
      },
      "source": [
        "Train a model on raw images"
      ]
    },
    {
      "cell_type": "code",
      "metadata": {
        "id": "ppjO7rpnGu4K",
        "colab_type": "code",
        "colab": {}
      },
      "source": [
        "# Images\n",
        "train_images = os.path.abspath('drive/My Drive/Colab Notebooks/CS293B/TrainImages')\n",
        "val_images = os.path.abspath('drive/My Drive/Colab Notebooks/CS293B/ValidationImages')\n",
        "test_images = os.path.abspath('drive/My Drive/Colab Notebooks/CS293B/TestImages')\n",
        "\n",
        "# Data\n",
        "train_data = ImageClassifierDataLoader.from_folder(train_images)\n",
        "val_data = ImageClassifierDataLoader.from_folder(val_images)\n",
        "test_data = ImageClassifierDataLoader.from_folder(test_images)\n",
        "\n",
        "# Fit\n",
        "model = image_classifier.create(train_data, model_spec=efficientnet_lite4_spec, validation_data=val_data, epochs=5, dropout_rate=0.25)\n",
        "loss, accuracy = model.evaluate(test_data)\n",
        "\n",
        "# Export\n",
        "model.export(export_dir='.')"
      ],
      "execution_count": null,
      "outputs": []
    },
    {
      "cell_type": "markdown",
      "metadata": {
        "id": "78nsg-D408Ro",
        "colab_type": "text"
      },
      "source": [
        "Train a model on raw and augmented images"
      ]
    },
    {
      "cell_type": "code",
      "metadata": {
        "id": "r9JgWXpJbQFs",
        "colab_type": "code",
        "colab": {}
      },
      "source": [
        "# Classes\n",
        "classes = ['Paper', 'Rock', 'Scissors']\n",
        "\n",
        "# Images\n",
        "train_images = os.path.abspath('drive/My Drive/Colab Notebooks/CS293B/TrainImages')\n",
        "val_images = os.path.abspath('drive/My Drive/Colab Notebooks/CS293B/ValidationImages')\n",
        "test_images = os.path.abspath('drive/My Drive/Colab Notebooks/CS293B/TestImages')\n",
        "\n",
        "# Data\n",
        "train_data_raw = ImageClassifierDataLoader.from_folder(train_images)\n",
        "val_data = ImageClassifierDataLoader.from_folder(val_images)\n",
        "test_data = ImageClassifierDataLoader.from_folder(test_images)\n",
        "\n",
        "def augment(image,label):\n",
        "  if (aug == 1): image = tf.image.resize_with_crop_or_pad(image, 128, 128) # Resize\n",
        "  if (aug == 2): image = tf.image.random_crop(image, size=[150, 150, 3]) # Random crop\n",
        "  if (aug == 3): image = tf.image.random_brightness(image, max_delta=0.5) # Random brightness\n",
        "  if (aug == 4): image = tf.image.central_crop(image, central_fraction=0.5) # Center crop\n",
        "  if (aug == 5): image = tf.image.flip_left_right(image) # Flip\n",
        "  if (aug == 6): image = tf.image.random_contrast(image, 0.2, 0.5) # Contrast\n",
        "\n",
        "  return image,label\n",
        "\n",
        "# Combine raw train dataset with augmented datasets\n",
        "aug = 1\n",
        "all_data = train_data_raw.dataset\n",
        "for i in range(0,6):\n",
        "  aug_data = (train_data_raw.dataset .map(augment))\n",
        "  all_data = all_data.concatenate(aug_data)\n",
        "  aug += 1\n",
        "\n",
        "size = tf.data.experimental.cardinality(all_data).numpy()\n",
        "train_data = ImageClassifierDataLoader(all_data, size, len(classes), classes)\n",
        "\n",
        "model = image_classifier.create(train_data, model_spec=efficientnet_lite3_spec, validation_data=val_data, epochs=10, dropout_rate=0.25)\n",
        "loss, accuracy = model.evaluate(test_data)\n",
        "\n",
        "model.export(export_dir='.')"
      ],
      "execution_count": null,
      "outputs": []
    },
    {
      "cell_type": "markdown",
      "metadata": {
        "id": "AoxQrNSiqMqX",
        "colab_type": "text"
      },
      "source": [
        "Train EfficientNets or ConvNets and graph training data/validation data performance"
      ]
    },
    {
      "cell_type": "code",
      "metadata": {
        "id": "StTdmS4SmQ1Z",
        "colab_type": "code",
        "colab": {}
      },
      "source": [
        "!pip install -q git+https://github.com/tensorflow/docs\n",
        "\n",
        "import tensorflow_docs as tfdocs\n",
        "import tensorflow_docs.modeling\n",
        "import tensorflow_docs.plots"
      ],
      "execution_count": null,
      "outputs": []
    },
    {
      "cell_type": "code",
      "metadata": {
        "id": "TxmRj9x0gi5Y",
        "colab_type": "code",
        "colab": {}
      },
      "source": [
        "# Images\n",
        "train_images = os.path.abspath('drive/My Drive/Colab Notebooks/CS293B/TrainImages')\n",
        "val_images = os.path.abspath('drive/My Drive/Colab Notebooks/CS293B/ValidationImages')\n",
        "test_images = os.path.abspath('drive/My Drive/Colab Notebooks/CS293B/TestImages')\n",
        "\n",
        "# Data\n",
        "train_data = ImageClassifierDataLoader.from_folder(train_images)\n",
        "val_data = ImageClassifierDataLoader.from_folder(val_images)\n",
        "test_data = ImageClassifierDataLoader.from_folder(test_images)\n",
        "\n",
        "# Models\n",
        "effNets = [efficientnet_lite0_spec, efficientnet_lite1_spec, efficientnet_lite2_spec, \n",
        "           efficientnet_lite3_spec, efficientnet_lite4_spec]\n",
        "\n",
        "inception_v3_spec = ImageModelSpec(uri='https://tfhub.dev/google/imagenet/inception_v3/feature_vector/1')\n",
        "inception_v3_spec.input_image_shape = [299, 299]\n",
        "\n",
        "convNets = [mobilenet_v2_spec, resnet_50_spec, inception_v3_spec]\n",
        "convNets_name = ['mobilenet', 'resnet', 'inception_v3']\n",
        "\n",
        "# History\n",
        "plotter = tfdocs.plots.HistoryPlotter(metric = 'loss')\n",
        "histories = {}\n",
        "\n",
        "# Fit\n",
        "evals = []\n",
        "for i in range(len(convNets)):\n",
        "  model = image_classifier.create(train_data, model_spec=convNets[i], validation_data=val_data, epochs=5, dropout_rate=0.25)\n",
        "  histories[convNets_name[i]] = model.history\n",
        "  loss, accuracy = model.evaluate(test_data)\n",
        "  evals.append([loss,accuracy])\n",
        "\n",
        "print(evals)\n",
        "\n",
        "# Plot\n",
        "plotter.plot(histories)\n",
        "ax = plt.subplot(111)\n",
        "ax.legend(loc='center left', bbox_to_anchor=(1, 0.5))\n",
        "plt.ylim([0.3, 0.7])"
      ],
      "execution_count": null,
      "outputs": []
    },
    {
      "cell_type": "markdown",
      "metadata": {
        "id": "OZTCtS9NSHEH",
        "colab_type": "text"
      },
      "source": [
        "Graph test set evaluations"
      ]
    },
    {
      "cell_type": "code",
      "metadata": {
        "id": "oXFss9zmWMiv",
        "colab_type": "code",
        "colab": {
          "base_uri": "https://localhost:8080/",
          "height": 397
        },
        "outputId": "c9b49055-cfcc-4712-a5b0-df470f51e179"
      },
      "source": [
        "import matplotlib as mpl\n",
        "import matplotlib.pyplot as plt\n",
        "\n",
        "# style\n",
        "mpl.style.use('seaborn')\n",
        "\n",
        "labels = ['lite0', 'lite1', 'lite2', 'lite3', 'lite4']\n",
        "loss = [62, 49, 57, 42, 47]\n",
        "acc = [80, 91, 80, 94, 93]\n",
        "\n",
        "x = np.arange(len(labels))  # the label locations\n",
        "width = 0.35  # the width of the bars\n",
        "\n",
        "fig, ax = plt.subplots()\n",
        "rects1 = ax.bar(x - width/2, loss, width, label='Loss')\n",
        "rects2 = ax.bar(x + width/2, acc, width, label='Accuracy')\n",
        "\n",
        "# Add some text for labels, title and custom x-axis tick labels, etc.\n",
        "ax.set_ylabel('Performance (%)')\n",
        "ax.set_title('EfficientNet Models: Test Set Evaluations')\n",
        "ax.set_xticks(x)\n",
        "ax.set_xticklabels(labels)\n",
        "ax.legend(loc='center left', bbox_to_anchor=(1, 0.5))\n",
        "\n",
        "def autolabel(rects):\n",
        "    \"\"\"Attach a text label above each bar in *rects*, displaying its height.\"\"\"\n",
        "    for rect in rects:\n",
        "        height = rect.get_height()\n",
        "        ax.annotate('{}'.format(height),\n",
        "                    xy=(rect.get_x() + rect.get_width() / 2, height),\n",
        "                    xytext=(0, 3),  # 3 points vertical offset\n",
        "                    textcoords=\"offset points\",\n",
        "                    ha='center', va='bottom')\n",
        "\n",
        "autolabel(rects1)\n",
        "autolabel(rects2)\n",
        "\n",
        "fig.tight_layout()\n",
        "plt.show()"
      ],
      "execution_count": null,
      "outputs": [
        {
          "output_type": "display_data",
          "data": {
            "image/png": "[encoded data removed]",
            "text/plain": [
              "<Figure size 576x396 with 1 Axes>"
            ]
          },
          "metadata": {
            "tags": []
          }
        }
      ]
    },
    {
      "cell_type": "markdown",
      "metadata": {
        "id": "hoxNAvQuSO8N",
        "colab_type": "text"
      },
      "source": [
        "Graph inference latency and model size for model groups"
      ]
    },
    {
      "cell_type": "code",
      "metadata": {
        "id": "e4ycN7sRk3sG",
        "colab_type": "code",
        "colab": {
          "base_uri": "https://localhost:8080/",
          "height": 398
        },
        "outputId": "a1bb1f17-8d18-45af-95a0-3cf35968923e"
      },
      "source": [
        "labels_eff = ['lite0', 'lite1', 'lite2', 'lite3', 'lite4']\n",
        "labels_conv = ['mobilenet', 'inception_v3', 'resnet']\n",
        "\n",
        "# model types\n",
        "# x1 = np.arange(len(labels_eff))\n",
        "x1 = np.arange(len(labels_conv))\n",
        "\n",
        "# latency, size\n",
        "y1 = [300, 2800, 3100]\n",
        "y2 = [8.9, 87.2, 94.2]\n",
        "\n",
        "ax = plt.subplot(2, 1, 1)\n",
        "ax.set_xticks(x1)\n",
        "ax.set_xticklabels(labels_conv)\n",
        "plt.plot(x1, y1, 'o-')\n",
        "plt.title('ConvNet Models: Latency & Size')\n",
        "plt.ylabel('Latency (ms)')\n",
        "\n",
        "ax = plt.subplot(2, 1, 2)\n",
        "ax.set_xticks(x1)\n",
        "ax.set_xticklabels(labels_conv)\n",
        "plt.plot(x1, y2, '.-')\n",
        "plt.xlabel('ConvNet Models')\n",
        "plt.ylabel('Size (MB)')\n",
        "\n",
        "plt.show()"
      ],
      "execution_count": null,
      "outputs": [
        {
          "output_type": "display_data",
          "data": {
            "image/png": "[encoded data removed]",
            "text/plain": [
              "<Figure size 576x396 with 2 Axes>"
            ]
          },
          "metadata": {
            "tags": []
          }
        }
      ]
    }
  ]
}